{
 "cells": [
  {
   "cell_type": "code",
   "execution_count": 3,
   "metadata": {},
   "outputs": [],
   "source": [
    "import torch\n",
    "import clip\n",
    "from PIL import Image\n",
    "import matplotlib.pyplot as plt\n",
    "\n",
    "from torchvision.datasets import CIFAR100\n",
    "import os\n",
    "\n",
    "import numpy as np"
   ]
  },
  {
   "cell_type": "code",
   "execution_count": 13,
   "metadata": {},
   "outputs": [],
   "source": [
    "device = \"cuda\" if torch.cuda.is_available() else \"cpu\"\n",
    "model, preprocess = clip.load(\"ViT-B/32\", device=device)\n",
    "\n",
    "image = preprocess(Image.open(\"CLIP.png\")).unsqueeze(0).to(device)"
   ]
  },
  {
   "cell_type": "code",
   "execution_count": 27,
   "metadata": {},
   "outputs": [
    {
     "name": "stderr",
     "output_type": "stream",
     "text": [
      "Clipping input data to the valid range for imshow with RGB data ([0..1] for floats or [0..255] for integers).\n"
     ]
    },
    {
     "data": {
      "text/plain": [
       "<matplotlib.image.AxesImage at 0x7f195db3c850>"
      ]
     },
     "execution_count": 27,
     "metadata": {},
     "output_type": "execute_result"
    },
    {
     "data": {
      "image/png": "[encoded data removed]",
      "text/plain": [
       "<Figure size 432x288 with 1 Axes>"
      ]
     },
     "metadata": {
      "needs_background": "light"
     },
     "output_type": "display_data"
    }
   ],
   "source": [
    "tmp = image[0].T\n",
    "plt.imshow(tmp)"
   ]
  },
  {
   "cell_type": "code",
   "execution_count": 29,
   "metadata": {},
   "outputs": [
    {
     "data": {
      "text/plain": [
       "torch.Size([3, 77])"
      ]
     },
     "execution_count": 29,
     "metadata": {},
     "output_type": "execute_result"
    }
   ],
   "source": [
    "text = clip.tokenize([\"a diagram\", \"a dog\", \"a cat\"]).to(device)\n",
    "text.shape"
   ]
  },
  {
   "cell_type": "code",
   "execution_count": 31,
   "metadata": {},
   "outputs": [
    {
     "name": "stdout",
     "output_type": "stream",
     "text": [
      "Label probs: [[0.99279356 0.00421067 0.00299574]]\n"
     ]
    }
   ],
   "source": [
    "with torch.no_grad():\n",
    "    image_features = model.encode_image(image)\n",
    "    text_features = model.encode_text(text)\n",
    "    \n",
    "    logits_per_image, logits_per_text = model(image, text)\n",
    "    probs = logits_per_image.softmax(dim=-1).cpu().numpy()\n",
    "\n",
    "print(\"Label probs:\", probs)  # prints: [[0.9927937  0.00421068 0.00299572]]"
   ]
  },
  {
   "cell_type": "code",
   "execution_count": 4,
   "metadata": {},
   "outputs": [
    {
     "data": {
      "text/plain": [
       "['RN50',\n",
       " 'RN101',\n",
       " 'RN50x4',\n",
       " 'RN50x16',\n",
       " 'RN50x64',\n",
       " 'ViT-B/32',\n",
       " 'ViT-B/16',\n",
       " 'ViT-L/14',\n",
       " 'ViT-L/14@336px']"
      ]
     },
     "execution_count": 4,
     "metadata": {},
     "output_type": "execute_result"
    }
   ],
   "source": [
    "clip.available_models()"
   ]
  },
  {
   "cell_type": "code",
   "execution_count": 37,
   "metadata": {},
   "outputs": [
    {
     "name": "stdout",
     "output_type": "stream",
     "text": [
      "Downloading https://www.cs.toronto.edu/~kriz/cifar-100-python.tar.gz to /home/nikhil/.cache/cifar-100-python.tar.gz\n"
     ]
    },
    {
     "name": "stderr",
     "output_type": "stream",
     "text": [
      "100%|██████████| 169001437/169001437 [00:17<00:00, 9524986.94it/s] \n"
     ]
    },
    {
     "name": "stdout",
     "output_type": "stream",
     "text": [
      "Extracting /home/nikhil/.cache/cifar-100-python.tar.gz to /home/nikhil/.cache\n",
      "\n",
      "Top predictions:\n",
      "\n",
      "           snake: 65.31%\n",
      "          turtle: 12.29%\n",
      "    sweet_pepper: 3.83%\n",
      "          lizard: 1.88%\n",
      "       crocodile: 1.75%\n"
     ]
    }
   ],
   "source": [
    "# Load the model\n",
    "device = \"cuda\" if torch.cuda.is_available() else \"cpu\"\n",
    "model, preprocess = clip.load('ViT-B/32', device)\n",
    "\n",
    "# Download the dataset\n",
    "cifar100 = CIFAR100(root=os.path.expanduser(\"~/.cache\"), download=True, train=False)\n",
    "\n",
    "# Prepare the inputs\n",
    "image, class_id = cifar100[3637]\n",
    "image_input = preprocess(image).unsqueeze(0).to(device)\n",
    "text_inputs = torch.cat([clip.tokenize(f\"a photo of a {c}\") for c in cifar100.classes]).to(device)\n",
    "\n",
    "# Calculate features\n",
    "with torch.no_grad():\n",
    "    image_features = model.encode_image(image_input)\n",
    "    text_features = model.encode_text(text_inputs)\n",
    "\n",
    "# Pick the top 5 most similar labels for the image\n",
    "image_features /= image_features.norm(dim=-1, keepdim=True)\n",
    "text_features /= text_features.norm(dim=-1, keepdim=True)\n",
    "similarity = (100.0 * image_features @ text_features.T).softmax(dim=-1)\n",
    "values, indices = similarity[0].topk(5)\n",
    "\n",
    "# Print the result\n",
    "print(\"\\nTop predictions:\\n\")\n",
    "for value, index in zip(values, indices):\n",
    "    print(f\"{cifar100.classes[index]:>16s}: {100 * value.item():.2f}%\")"
   ]
  },
  {
   "cell_type": "code",
   "execution_count": 4,
   "metadata": {},
   "outputs": [
    {
     "name": "stdout",
     "output_type": "stream",
     "text": [
      "SwinTransformer(\n",
      "  (stage1): StageModule(\n",
      "    (patch_partition): PatchMerging(\n",
      "      (patch_merge): Unfold(kernel_size=4, dilation=1, padding=0, stride=4)\n",
      "      (linear): Linear(in_features=48, out_features=96, bias=True)\n",
      "    )\n",
      "    (layers): ModuleList(\n",
      "      (0): ModuleList(\n",
      "        (0): SwinBlock(\n",
      "          (attention_block): Residual(\n",
      "            (fn): PreNorm(\n",
      "              (norm): LayerNorm((96,), eps=1e-05, elementwise_affine=True)\n",
      "              (fn): WindowAttention(\n",
      "                (to_qkv): Linear(in_features=96, out_features=288, bias=False)\n",
      "                (to_out): Linear(in_features=96, out_features=96, bias=True)\n",
      "              )\n",
      "            )\n",
      "          )\n",
      "          (mlp_block): Residual(\n",
      "            (fn): PreNorm(\n",
      "              (norm): LayerNorm((96,), eps=1e-05, elementwise_affine=True)\n",
      "              (fn): FeedForward(\n",
      "                (net): Sequential(\n",
      "                  (0): Linear(in_features=96, out_features=384, bias=True)\n",
      "                  (1): GELU(approximate='none')\n",
      "                  (2): Linear(in_features=384, out_features=96, bias=True)\n",
      "                )\n",
      "              )\n",
      "            )\n",
      "          )\n",
      "        )\n",
      "        (1): SwinBlock(\n",
      "          (attention_block): Residual(\n",
      "            (fn): PreNorm(\n",
      "              (norm): LayerNorm((96,), eps=1e-05, elementwise_affine=True)\n",
      "              (fn): WindowAttention(\n",
      "                (cyclic_shift): CyclicShift()\n",
      "                (cyclic_back_shift): CyclicShift()\n",
      "                (to_qkv): Linear(in_features=96, out_features=288, bias=False)\n",
      "                (to_out): Linear(in_features=96, out_features=96, bias=True)\n",
      "              )\n",
      "            )\n",
      "          )\n",
      "          (mlp_block): Residual(\n",
      "            (fn): PreNorm(\n",
      "              (norm): LayerNorm((96,), eps=1e-05, elementwise_affine=True)\n",
      "              (fn): FeedForward(\n",
      "                (net): Sequential(\n",
      "                  (0): Linear(in_features=96, out_features=384, bias=True)\n",
      "                  (1): GELU(approximate='none')\n",
      "                  (2): Linear(in_features=384, out_features=96, bias=True)\n",
      "                )\n",
      "              )\n",
      "            )\n",
      "          )\n",
      "        )\n",
      "      )\n",
      "    )\n",
      "  )\n",
      "  (stage2): StageModule(\n",
      "    (patch_partition): PatchMerging(\n",
      "      (patch_merge): Unfold(kernel_size=2, dilation=1, padding=0, stride=2)\n",
      "      (linear): Linear(in_features=384, out_features=192, bias=True)\n",
      "    )\n",
      "    (layers): ModuleList(\n",
      "      (0): ModuleList(\n",
      "        (0): SwinBlock(\n",
      "          (attention_block): Residual(\n",
      "            (fn): PreNorm(\n",
      "              (norm): LayerNorm((192,), eps=1e-05, elementwise_affine=True)\n",
      "              (fn): WindowAttention(\n",
      "                (to_qkv): Linear(in_features=192, out_features=576, bias=False)\n",
      "                (to_out): Linear(in_features=192, out_features=192, bias=True)\n",
      "              )\n",
      "            )\n",
      "          )\n",
      "          (mlp_block): Residual(\n",
      "            (fn): PreNorm(\n",
      "              (norm): LayerNorm((192,), eps=1e-05, elementwise_affine=True)\n",
      "              (fn): FeedForward(\n",
      "                (net): Sequential(\n",
      "                  (0): Linear(in_features=192, out_features=768, bias=True)\n",
      "                  (1): GELU(approximate='none')\n",
      "                  (2): Linear(in_features=768, out_features=192, bias=True)\n",
      "                )\n",
      "              )\n",
      "            )\n",
      "          )\n",
      "        )\n",
      "        (1): SwinBlock(\n",
      "          (attention_block): Residual(\n",
      "            (fn): PreNorm(\n",
      "              (norm): LayerNorm((192,), eps=1e-05, elementwise_affine=True)\n",
      "              (fn): WindowAttention(\n",
      "                (cyclic_shift): CyclicShift()\n",
      "                (cyclic_back_shift): CyclicShift()\n",
      "                (to_qkv): Linear(in_features=192, out_features=576, bias=False)\n",
      "                (to_out): Linear(in_features=192, out_features=192, bias=True)\n",
      "              )\n",
      "            )\n",
      "          )\n",
      "          (mlp_block): Residual(\n",
      "            (fn): PreNorm(\n",
      "              (norm): LayerNorm((192,), eps=1e-05, elementwise_affine=True)\n",
      "              (fn): FeedForward(\n",
      "                (net): Sequential(\n",
      "                  (0): Linear(in_features=192, out_features=768, bias=True)\n",
      "                  (1): GELU(approximate='none')\n",
      "                  (2): Linear(in_features=768, out_features=192, bias=True)\n",
      "                )\n",
      "              )\n",
      "            )\n",
      "          )\n",
      "        )\n",
      "      )\n",
      "    )\n",
      "  )\n",
      "  (stage3): StageModule(\n",
      "    (patch_partition): PatchMerging(\n",
      "      (patch_merge): Unfold(kernel_size=2, dilation=1, padding=0, stride=2)\n",
      "      (linear): Linear(in_features=768, out_features=384, bias=True)\n",
      "    )\n",
      "    (layers): ModuleList(\n",
      "      (0-2): 3 x ModuleList(\n",
      "        (0): SwinBlock(\n",
      "          (attention_block): Residual(\n",
      "            (fn): PreNorm(\n",
      "              (norm): LayerNorm((384,), eps=1e-05, elementwise_affine=True)\n",
      "              (fn): WindowAttention(\n",
      "                (to_qkv): Linear(in_features=384, out_features=1152, bias=False)\n",
      "                (to_out): Linear(in_features=384, out_features=384, bias=True)\n",
      "              )\n",
      "            )\n",
      "          )\n",
      "          (mlp_block): Residual(\n",
      "            (fn): PreNorm(\n",
      "              (norm): LayerNorm((384,), eps=1e-05, elementwise_affine=True)\n",
      "              (fn): FeedForward(\n",
      "                (net): Sequential(\n",
      "                  (0): Linear(in_features=384, out_features=1536, bias=True)\n",
      "                  (1): GELU(approximate='none')\n",
      "                  (2): Linear(in_features=1536, out_features=384, bias=True)\n",
      "                )\n",
      "              )\n",
      "            )\n",
      "          )\n",
      "        )\n",
      "        (1): SwinBlock(\n",
      "          (attention_block): Residual(\n",
      "            (fn): PreNorm(\n",
      "              (norm): LayerNorm((384,), eps=1e-05, elementwise_affine=True)\n",
      "              (fn): WindowAttention(\n",
      "                (cyclic_shift): CyclicShift()\n",
      "                (cyclic_back_shift): CyclicShift()\n",
      "                (to_qkv): Linear(in_features=384, out_features=1152, bias=False)\n",
      "                (to_out): Linear(in_features=384, out_features=384, bias=True)\n",
      "              )\n",
      "            )\n",
      "          )\n",
      "          (mlp_block): Residual(\n",
      "            (fn): PreNorm(\n",
      "              (norm): LayerNorm((384,), eps=1e-05, elementwise_affine=True)\n",
      "              (fn): FeedForward(\n",
      "                (net): Sequential(\n",
      "                  (0): Linear(in_features=384, out_features=1536, bias=True)\n",
      "                  (1): GELU(approximate='none')\n",
      "                  (2): Linear(in_features=1536, out_features=384, bias=True)\n",
      "                )\n",
      "              )\n",
      "            )\n",
      "          )\n",
      "        )\n",
      "      )\n",
      "    )\n",
      "  )\n",
      "  (stage4): StageModule(\n",
      "    (patch_partition): PatchMerging(\n",
      "      (patch_merge): Unfold(kernel_size=2, dilation=1, padding=0, stride=2)\n",
      "      (linear): Linear(in_features=1536, out_features=768, bias=True)\n",
      "    )\n",
      "    (layers): ModuleList(\n",
      "      (0): ModuleList(\n",
      "        (0): SwinBlock(\n",
      "          (attention_block): Residual(\n",
      "            (fn): PreNorm(\n",
      "              (norm): LayerNorm((768,), eps=1e-05, elementwise_affine=True)\n",
      "              (fn): WindowAttention(\n",
      "                (to_qkv): Linear(in_features=768, out_features=2304, bias=False)\n",
      "                (to_out): Linear(in_features=768, out_features=768, bias=True)\n",
      "              )\n",
      "            )\n",
      "          )\n",
      "          (mlp_block): Residual(\n",
      "            (fn): PreNorm(\n",
      "              (norm): LayerNorm((768,), eps=1e-05, elementwise_affine=True)\n",
      "              (fn): FeedForward(\n",
      "                (net): Sequential(\n",
      "                  (0): Linear(in_features=768, out_features=3072, bias=True)\n",
      "                  (1): GELU(approximate='none')\n",
      "                  (2): Linear(in_features=3072, out_features=768, bias=True)\n",
      "                )\n",
      "              )\n",
      "            )\n",
      "          )\n",
      "        )\n",
      "        (1): SwinBlock(\n",
      "          (attention_block): Residual(\n",
      "            (fn): PreNorm(\n",
      "              (norm): LayerNorm((768,), eps=1e-05, elementwise_affine=True)\n",
      "              (fn): WindowAttention(\n",
      "                (cyclic_shift): CyclicShift()\n",
      "                (cyclic_back_shift): CyclicShift()\n",
      "                (to_qkv): Linear(in_features=768, out_features=2304, bias=False)\n",
      "                (to_out): Linear(in_features=768, out_features=768, bias=True)\n",
      "              )\n",
      "            )\n",
      "          )\n",
      "          (mlp_block): Residual(\n",
      "            (fn): PreNorm(\n",
      "              (norm): LayerNorm((768,), eps=1e-05, elementwise_affine=True)\n",
      "              (fn): FeedForward(\n",
      "                (net): Sequential(\n",
      "                  (0): Linear(in_features=768, out_features=3072, bias=True)\n",
      "                  (1): GELU(approximate='none')\n",
      "                  (2): Linear(in_features=3072, out_features=768, bias=True)\n",
      "                )\n",
      "              )\n",
      "            )\n",
      "          )\n",
      "        )\n",
      "      )\n",
      "    )\n",
      "  )\n",
      "  (mlp_head): Sequential(\n",
      "    (0): LayerNorm((768,), eps=1e-05, elementwise_affine=True)\n",
      "    (1): Linear(in_features=768, out_features=3, bias=True)\n",
      "  )\n",
      ")\n",
      "tensor([[-0.0446,  0.3870, -0.4128]], grad_fn=<AddmmBackward0>)\n"
     ]
    }
   ],
   "source": [
    "from swin_transformer import SwinTransformer\n",
    "\n",
    "net = SwinTransformer(\n",
    "    hidden_dim=96,\n",
    "    layers=(2, 2, 6, 2),\n",
    "    heads=(3, 6, 12, 24),\n",
    "    channels=3,\n",
    "    num_classes=3,\n",
    "    head_dim=32,\n",
    "    window_size=7,\n",
    "    downscaling_factors=(4, 2, 2, 2),\n",
    "    relative_pos_embedding=True\n",
    ")\n",
    "dummy_x = torch.randn(1, 3, 224, 224)\n",
    "logits = net(dummy_x)  # (1,3)\n",
    "print(net)\n",
    "print(logits)"
   ]
  },
  {
   "cell_type": "code",
   "execution_count": null,
   "metadata": {},
   "outputs": [],
   "source": []
  }
 ],
 "metadata": {
  "kernelspec": {
   "display_name": "python38",
   "language": "python",
   "name": "python3"
  },
  "language_info": {
   "codemirror_mode": {
    "name": "ipython",
    "version": 3
   },
   "file_extension": ".py",
   "mimetype": "text/x-python",
   "name": "python",
   "nbconvert_exporter": "python",
   "pygments_lexer": "ipython3",
   "version": "3.8.5"
  }
 },
 "nbformat": 4,
 "nbformat_minor": 2
}
